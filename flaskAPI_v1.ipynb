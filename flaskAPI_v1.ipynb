{
  "nbformat": 4,
  "nbformat_minor": 0,
  "metadata": {
    "colab": {
      "name": "flaskAPI-v1.ipynb",
      "provenance": [],
      "authorship_tag": "ABX9TyO8rzbvJ/dKePVTulOK+Rpe",
      "include_colab_link": true
    },
    "kernelspec": {
      "name": "python3",
      "display_name": "Python 3"
    }
  },
  "cells": [
    {
      "cell_type": "markdown",
      "metadata": {
        "id": "view-in-github",
        "colab_type": "text"
      },
      "source": [
        "<a href=\"https://colab.research.google.com/github/patternproject/p.FlaskDemo/blob/master/flaskAPI_v1.ipynb\" target=\"_parent\"><img src=\"https://colab.research.google.com/assets/colab-badge.svg\" alt=\"Open In Colab\"/></a>"
      ]
    },
    {
      "cell_type": "markdown",
      "metadata": {
        "id": "h2It0XUGl1vH",
        "colab_type": "text"
      },
      "source": [
        "# Creating a Flask API with Endpoints\n",
        "(building on flaskDemo)"
      ]
    },
    {
      "cell_type": "markdown",
      "metadata": {
        "id": "-kNwdq_VmEeC",
        "colab_type": "text"
      },
      "source": [
        "In this exercise, we will learn how to create a Flask API with two different endpoints:\n",
        "\n",
        "*  The root endpoint, which will display a welcoming message for any GET request received\n",
        "*  Another one, which will check whether the input data received is empty or not\n"
      ]
    },
    {
      "cell_type": "code",
      "metadata": {
        "id": "_KIOE0B1luI6",
        "colab_type": "code",
        "colab": {}
      },
      "source": [
        "import socket\n",
        "import threading\n",
        "import requests\n",
        "import json\n",
        "from flask import Flask, jsonify, request"
      ],
      "execution_count": 0,
      "outputs": []
    },
    {
      "cell_type": "markdown",
      "metadata": {
        "id": "kemq1toUmQFA",
        "colab_type": "text"
      },
      "source": [
        "Save the host IP address into a new variable called ip_address using the .gethostbyname() and .gethostname() methods. Display the value of this new variable:"
      ]
    },
    {
      "cell_type": "code",
      "metadata": {
        "id": "d4EyMu-amNGY",
        "colab_type": "code",
        "colab": {
          "base_uri": "https://localhost:8080/",
          "height": 34
        },
        "outputId": "e2f4f3bd-d512-4a38-edcd-387cf79f51dd"
      },
      "source": [
        "ip_address = socket.gethostbyname(socket.gethostname())\n",
        "ip_address"
      ],
      "execution_count": 2,
      "outputs": [
        {
          "output_type": "execute_result",
          "data": {
            "text/plain": [
              "'172.28.0.2'"
            ]
          },
          "metadata": {
            "tags": []
          },
          "execution_count": 2
        }
      ]
    },
    {
      "cell_type": "markdown",
      "metadata": {
        "id": "zj5FHXbCmVmo",
        "colab_type": "text"
      },
      "source": [
        "Create a Flask app and save it into a new variable called app:"
      ]
    },
    {
      "cell_type": "code",
      "metadata": {
        "id": "F_qx60pKmSOT",
        "colab_type": "code",
        "colab": {}
      },
      "source": [
        "app = Flask(__name__)"
      ],
      "execution_count": 0,
      "outputs": []
    },
    {
      "cell_type": "markdown",
      "metadata": {
        "id": "EuVDIj1AmcG0",
        "colab_type": "text"
      },
      "source": [
        "Create an API endpoint for the root directory using the @app.route() decorator that will call a function named welcome(), which will return the following message: Welcome to my API!:"
      ]
    },
    {
      "cell_type": "code",
      "metadata": {
        "id": "6_tu5cuBmZAO",
        "colab_type": "code",
        "colab": {}
      },
      "source": [
        "@app.route(\"/\")\n",
        "def welcome():\n",
        "    return \"Welcome to my API!\""
      ],
      "execution_count": 0,
      "outputs": []
    },
    {
      "cell_type": "markdown",
      "metadata": {
        "id": "A1kUduspmiFw",
        "colab_type": "text"
      },
      "source": [
        "Create a new thread for running your Flask app using the threading.Thread method with the following parameters: target=app.run, kwargs={'host':'0.0.0.0','port':80}:"
      ]
    },
    {
      "cell_type": "code",
      "metadata": {
        "id": "o-pAUl5ZmgAv",
        "colab_type": "code",
        "colab": {
          "base_uri": "https://localhost:8080/",
          "height": 123
        },
        "outputId": "9e02529a-402b-40b3-a001-88aa74c73353"
      },
      "source": [
        "flask_thread = threading.Thread(target=app.run, kwargs={'host':'0.0.0.0','port':80})\n",
        "flask_thread.start()"
      ],
      "execution_count": 5,
      "outputs": [
        {
          "output_type": "stream",
          "text": [
            " * Serving Flask app \"__main__\" (lazy loading)\n",
            " * Environment: production\n",
            "\u001b[31m   WARNING: This is a development server. Do not use it in a production deployment.\u001b[0m\n",
            "\u001b[2m   Use a production WSGI server instead.\u001b[0m\n",
            " * Debug mode: off\n"
          ],
          "name": "stdout"
        },
        {
          "output_type": "stream",
          "text": [
            " * Running on http://0.0.0.0:80/ (Press CTRL+C to quit)\n"
          ],
          "name": "stderr"
        }
      ]
    },
    {
      "cell_type": "markdown",
      "metadata": {
        "id": "jzZejRmdmqg7",
        "colab_type": "text"
      },
      "source": [
        "Send a HTTP GET request to the server using the requests.get() method with the HTTP URL of the host IP address and print its .text attribute:"
      ]
    },
    {
      "cell_type": "code",
      "metadata": {
        "id": "gEMkfazzmlAM",
        "colab_type": "code",
        "colab": {
          "base_uri": "https://localhost:8080/",
          "height": 52
        },
        "outputId": "ddddcec2-f7e3-44c3-fb97-5b363a51aa81"
      },
      "source": [
        "r = requests.get(f\"http://{ip_address}\")\n",
        "r.text"
      ],
      "execution_count": 6,
      "outputs": [
        {
          "output_type": "stream",
          "text": [
            "172.28.0.2 - - [07/Apr/2020 07:46:38] \"\u001b[37mGET / HTTP/1.1\u001b[0m\" 200 -\n"
          ],
          "name": "stderr"
        },
        {
          "output_type": "execute_result",
          "data": {
            "text/plain": [
              "'Welcome to my API!'"
            ]
          },
          "metadata": {
            "tags": []
          },
          "execution_count": 6
        }
      ]
    },
    {
      "cell_type": "markdown",
      "metadata": {
        "id": "7enBFisFmy64",
        "colab_type": "text"
      },
      "source": [
        "Create a new API endpoint for the empty path that accepts only POST requests and will call a function called check_empty(). \n",
        "\n",
        "This function will read the JSON received using the request.get_json() method, save it into a variable called data, and return True if data is empty or False otherwise using jsonify():"
      ]
    },
    {
      "cell_type": "code",
      "metadata": {
        "id": "4QV9ShVmmulR",
        "colab_type": "code",
        "colab": {}
      },
      "source": [
        "@app.route('/empty', methods=['POST'])\n",
        "def check_empty():\n",
        "  data = request.get_json()\n",
        "  return jsonify(not data)"
      ],
      "execution_count": 0,
      "outputs": []
    },
    {
      "cell_type": "markdown",
      "metadata": {
        "id": "IvSBnR5wnCdz",
        "colab_type": "text"
      },
      "source": [
        "Create a variable called empty_json that will contain an empty JSON by using the json.dumps() method with an empty list as a parameter:"
      ]
    },
    {
      "cell_type": "code",
      "metadata": {
        "id": "MgSHQh5Fm4_j",
        "colab_type": "code",
        "colab": {}
      },
      "source": [
        "empty_json = json.dumps([])"
      ],
      "execution_count": 0,
      "outputs": []
    },
    {
      "cell_type": "markdown",
      "metadata": {
        "id": "LcvsGXP0nFo3",
        "colab_type": "text"
      },
      "source": [
        "Create a dictionary called headers with the following key-value pairs: 'content-type': 'application/json', 'Accept-Charset': 'UTF-8':"
      ]
    },
    {
      "cell_type": "code",
      "metadata": {
        "id": "iBu15xRFnEKv",
        "colab_type": "code",
        "colab": {}
      },
      "source": [
        "headers = {'content-type': 'application/json', 'Accept-Charset': 'UTF-8'}"
      ],
      "execution_count": 0,
      "outputs": []
    },
    {
      "cell_type": "markdown",
      "metadata": {
        "id": "F6Z8MbudnI7N",
        "colab_type": "text"
      },
      "source": [
        "Send a HTTP POST request to the server using the requests.post() method with the HTTP URL to the empty endpoint, using empty_json and headers as its parameters, and print its .text attribute:"
      ]
    },
    {
      "cell_type": "code",
      "metadata": {
        "id": "OK7RjTjOnHOr",
        "colab_type": "code",
        "colab": {
          "base_uri": "https://localhost:8080/",
          "height": 52
        },
        "outputId": "dd8d8611-111d-4872-c0dd-670ae157f54a"
      },
      "source": [
        "r_empty = requests.post(f\"http://{ip_address}/empty\", data=empty_json, headers=headers)\n",
        "r_empty.text"
      ],
      "execution_count": 10,
      "outputs": [
        {
          "output_type": "stream",
          "text": [
            "172.28.0.2 - - [07/Apr/2020 07:48:32] \"\u001b[37mPOST /empty HTTP/1.1\u001b[0m\" 200 -\n"
          ],
          "name": "stderr"
        },
        {
          "output_type": "execute_result",
          "data": {
            "text/plain": [
              "'true\\n'"
            ]
          },
          "metadata": {
            "tags": []
          },
          "execution_count": 10
        }
      ]
    },
    {
      "cell_type": "markdown",
      "metadata": {
        "id": "VmeufzMmnPxs",
        "colab_type": "text"
      },
      "source": [
        "Create a variable called not_empty_json that contains a JSON version of a list, ['Data Science', 'is', 'so', 'cool', '!'], using the json.dumps() method:"
      ]
    },
    {
      "cell_type": "code",
      "metadata": {
        "id": "aRVzZOCgnKks",
        "colab_type": "code",
        "colab": {}
      },
      "source": [
        "not_empty_json = json.dumps(['Data Science', 'is', 'so', 'cool', '!'])"
      ],
      "execution_count": 0,
      "outputs": []
    },
    {
      "cell_type": "markdown",
      "metadata": {
        "id": "chEAV-xSnTH_",
        "colab_type": "text"
      },
      "source": [
        "Send an HTTP POST request to the server using the requests.post() method with the HTTP URL to the empty endpoint, using not_empty_json and headers as its parameters, and print its .text attribute:"
      ]
    },
    {
      "cell_type": "code",
      "metadata": {
        "id": "xh976NvynRkY",
        "colab_type": "code",
        "colab": {
          "base_uri": "https://localhost:8080/",
          "height": 52
        },
        "outputId": "d1250983-30d9-428d-9227-196771ccc6e7"
      },
      "source": [
        "r_not_empty = requests.post(f\"http://{ip_address}/empty\", data=not_empty_json, headers=headers)\n",
        "r_not_empty.text"
      ],
      "execution_count": 12,
      "outputs": [
        {
          "output_type": "stream",
          "text": [
            "172.28.0.2 - - [07/Apr/2020 07:49:17] \"\u001b[37mPOST /empty HTTP/1.1\u001b[0m\" 200 -\n"
          ],
          "name": "stderr"
        },
        {
          "output_type": "execute_result",
          "data": {
            "text/plain": [
              "'false\\n'"
            ]
          },
          "metadata": {
            "tags": []
          },
          "execution_count": 12
        }
      ]
    },
    {
      "cell_type": "markdown",
      "metadata": {
        "id": "5ySWm9genZM7",
        "colab_type": "text"
      },
      "source": [
        "Great job! You successfully created a Flask app with two different API endpoints that will display a welcoming message and check whether the input data received is empty or not."
      ]
    },
    {
      "cell_type": "code",
      "metadata": {
        "id": "RjCoR5p6nVbh",
        "colab_type": "code",
        "colab": {}
      },
      "source": [
        ""
      ],
      "execution_count": 0,
      "outputs": []
    }
  ]
}