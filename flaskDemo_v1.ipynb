{
  "nbformat": 4,
  "nbformat_minor": 0,
  "metadata": {
    "colab": {
      "name": "flaskDemo-v1.ipynb",
      "provenance": [],
      "authorship_tag": "ABX9TyM2BfisUTl/wG1OdN7VKQdD",
      "include_colab_link": true
    },
    "kernelspec": {
      "name": "python3",
      "display_name": "Python 3"
    }
  },
  "cells": [
    {
      "cell_type": "markdown",
      "metadata": {
        "id": "view-in-github",
        "colab_type": "text"
      },
      "source": [
        "<a href=\"https://colab.research.google.com/github/patternproject/p.FlaskDemo/blob/master/flaskDemo_v1.ipynb\" target=\"_parent\"><img src=\"https://colab.research.google.com/assets/colab-badge.svg\" alt=\"Open In Colab\"/></a>"
      ]
    },
    {
      "cell_type": "markdown",
      "metadata": {
        "id": "gAJRrdPXhR_q",
        "colab_type": "text"
      },
      "source": [
        "# Flask Setup to run from colab"
      ]
    },
    {
      "cell_type": "code",
      "metadata": {
        "id": "R6VyCefuRVZl",
        "colab_type": "code",
        "colab": {
          "base_uri": "https://localhost:8080/",
          "height": 34
        },
        "outputId": "af844068-87f1-4b1d-ba7f-c68dd81f41d9"
      },
      "source": [
        "import socket\n",
        "hostname = socket.gethostname()\n",
        "hostname"
      ],
      "execution_count": 1,
      "outputs": [
        {
          "output_type": "execute_result",
          "data": {
            "text/plain": [
              "'4567863f8540'"
            ]
          },
          "metadata": {
            "tags": []
          },
          "execution_count": 1
        }
      ]
    },
    {
      "cell_type": "code",
      "metadata": {
        "id": "w5obHu9KTNSS",
        "colab_type": "code",
        "colab": {
          "base_uri": "https://localhost:8080/",
          "height": 34
        },
        "outputId": "48c058f2-38f3-448c-d38b-a9929f404010"
      },
      "source": [
        "ip_address = socket.gethostbyname(hostname)\n",
        "ip_address"
      ],
      "execution_count": 2,
      "outputs": [
        {
          "output_type": "execute_result",
          "data": {
            "text/plain": [
              "'172.28.0.2'"
            ]
          },
          "metadata": {
            "tags": []
          },
          "execution_count": 2
        }
      ]
    },
    {
      "cell_type": "code",
      "metadata": {
        "id": "wOS7MLflhdUE",
        "colab_type": "code",
        "colab": {}
      },
      "source": [
        "from flask import Flask\n",
        "app = Flask(__name__)"
      ],
      "execution_count": 0,
      "outputs": []
    },
    {
      "cell_type": "code",
      "metadata": {
        "id": "n8CJ-M8_hd9O",
        "colab_type": "code",
        "colab": {}
      },
      "source": [
        "@app.route(\"/\")\n",
        "def hello():\n",
        "    return \"Hello Packt!\""
      ],
      "execution_count": 0,
      "outputs": []
    },
    {
      "cell_type": "code",
      "metadata": {
        "id": "Auw0FNRchgWy",
        "colab_type": "code",
        "colab": {
          "base_uri": "https://localhost:8080/",
          "height": 123
        },
        "outputId": "f5cb71c0-a00f-4501-ec96-5e2e51bea4d3"
      },
      "source": [
        "app.run()"
      ],
      "execution_count": 5,
      "outputs": [
        {
          "output_type": "stream",
          "text": [
            " * Serving Flask app \"__main__\" (lazy loading)\n",
            " * Environment: production\n",
            "\u001b[31m   WARNING: This is a development server. Do not use it in a production deployment.\u001b[0m\n",
            "\u001b[2m   Use a production WSGI server instead.\u001b[0m\n",
            " * Debug mode: off\n"
          ],
          "name": "stdout"
        },
        {
          "output_type": "stream",
          "text": [
            " * Running on http://127.0.0.1:5000/ (Press CTRL+C to quit)\n"
          ],
          "name": "stderr"
        }
      ]
    },
    {
      "cell_type": "code",
      "metadata": {
        "id": "BmJOD6whhksE",
        "colab_type": "code",
        "colab": {}
      },
      "source": [
        "import threading\n",
        "flask_thread = threading.Thread(target=app.run, kwargs={'host':'0.0.0.0','port':80})\t"
      ],
      "execution_count": 0,
      "outputs": []
    },
    {
      "cell_type": "code",
      "metadata": {
        "id": "H0sm_Qq1hv3G",
        "colab_type": "code",
        "colab": {
          "base_uri": "https://localhost:8080/",
          "height": 123
        },
        "outputId": "f90e5942-d967-41fd-db0e-93c4251225e7"
      },
      "source": [
        "flask_thread.start()"
      ],
      "execution_count": 7,
      "outputs": [
        {
          "output_type": "stream",
          "text": [
            " * Serving Flask app \"__main__\" (lazy loading)\n",
            " * Environment: production\n",
            "\u001b[31m   WARNING: This is a development server. Do not use it in a production deployment.\u001b[0m\n",
            "\u001b[2m   Use a production WSGI server instead.\u001b[0m\n",
            " * Debug mode: off\n"
          ],
          "name": "stdout"
        },
        {
          "output_type": "stream",
          "text": [
            " * Running on http://0.0.0.0:80/ (Press CTRL+C to quit)\n"
          ],
          "name": "stderr"
        }
      ]
    },
    {
      "cell_type": "code",
      "metadata": {
        "id": "MjqPnbpohz83",
        "colab_type": "code",
        "colab": {
          "base_uri": "https://localhost:8080/",
          "height": 34
        },
        "outputId": "5516dfbd-1518-4a70-9cf5-26024257be61"
      },
      "source": [
        "import requests\n",
        "r = requests.get(\"http://172.28.0.2\")"
      ],
      "execution_count": 8,
      "outputs": [
        {
          "output_type": "stream",
          "text": [
            "172.28.0.2 - - [07/Apr/2020 07:25:58] \"\u001b[37mGET / HTTP/1.1\u001b[0m\" 200 -\n"
          ],
          "name": "stderr"
        }
      ]
    },
    {
      "cell_type": "markdown",
      "metadata": {
        "id": "z3Ae6wVnjl97",
        "colab_type": "text"
      },
      "source": [
        "This log implies that we called the server with IP address 172.28.0.2 on a specific datetime, we sent an HTTP GET request (version 1.1), and the returned status code is 200, which means it was successful."
      ]
    },
    {
      "cell_type": "code",
      "metadata": {
        "id": "C_Rjr0Cnh_6M",
        "colab_type": "code",
        "colab": {
          "base_uri": "https://localhost:8080/",
          "height": 34
        },
        "outputId": "a064a92d-6b2a-42bd-da90-56245d9f8196"
      },
      "source": [
        "r.text"
      ],
      "execution_count": 9,
      "outputs": [
        {
          "output_type": "execute_result",
          "data": {
            "text/plain": [
              "'Hello Packt!'"
            ]
          },
          "metadata": {
            "tags": []
          },
          "execution_count": 9
        }
      ]
    },
    {
      "cell_type": "markdown",
      "metadata": {
        "id": "Cdx_AuA1jYbr",
        "colab_type": "text"
      },
      "source": [
        "### Adding a POST API Endpoint"
      ]
    },
    {
      "cell_type": "code",
      "metadata": {
        "id": "v0W77UvViICg",
        "colab_type": "code",
        "colab": {
          "base_uri": "https://localhost:8080/",
          "height": 34
        },
        "outputId": "43ad3597-fa70-4f44-bf5d-4ba68bb8baf6"
      },
      "source": [
        "r = requests.post(\"http://172.28.0.2\")"
      ],
      "execution_count": 10,
      "outputs": [
        {
          "output_type": "stream",
          "text": [
            "172.28.0.2 - - [07/Apr/2020 07:32:14] \"\u001b[31m\u001b[1mPOST / HTTP/1.1\u001b[0m\" 405 -\n"
          ],
          "name": "stderr"
        }
      ]
    },
    {
      "cell_type": "markdown",
      "metadata": {
        "id": "SRL80SqkjgAi",
        "colab_type": "text"
      },
      "source": [
        "the log returns a status code of 405, which means there is an error from the client side stating that the POST method is not allowed."
      ]
    },
    {
      "cell_type": "markdown",
      "metadata": {
        "id": "emPYN_2ajz0S",
        "colab_type": "text"
      },
      "source": [
        "This is because when we declared the root endpoint, we didn't specify any HTTP request type, so by default Flask allows only GET requests. To specify which request type an endpoint can process, we just need to provide the list of request types to the methods parameter of the app.route() decorator. Let's create a new endpoint that accepts both GET and POST requests:"
      ]
    },
    {
      "cell_type": "code",
      "metadata": {
        "id": "U14B0cIojbwV",
        "colab_type": "code",
        "colab": {}
      },
      "source": [
        "@app.route('/test', methods=['GET', 'POST'])\n",
        "def test():\n",
        "  return \"Hello Test!\""
      ],
      "execution_count": 0,
      "outputs": []
    },
    {
      "cell_type": "markdown",
      "metadata": {
        "id": "Kk-bLwwhkQpK",
        "colab_type": "text"
      },
      "source": [
        "Now let's try to send a GET request to this new endpoint:"
      ]
    },
    {
      "cell_type": "markdown",
      "metadata": {
        "id": "scQSxUJTkuJJ",
        "colab_type": "text"
      },
      "source": [
        "ToDebug: changed the endpoint from `/foo (returning Hello foo)` to `/test (returning Hello Test)` but still ouput has not changed"
      ]
    },
    {
      "cell_type": "code",
      "metadata": {
        "id": "ju4cIuo8j2bs",
        "colab_type": "code",
        "colab": {
          "base_uri": "https://localhost:8080/",
          "height": 52
        },
        "outputId": "b6d70d0e-731d-4beb-a71e-5779d8099e21"
      },
      "source": [
        "r_get = requests.get(\"http://172.28.0.2/test\")\n",
        "r_get.text"
      ],
      "execution_count": 19,
      "outputs": [
        {
          "output_type": "stream",
          "text": [
            "172.28.0.2 - - [07/Apr/2020 07:36:36] \"\u001b[37mGET /test HTTP/1.1\u001b[0m\" 200 -\n"
          ],
          "name": "stderr"
        },
        {
          "output_type": "execute_result",
          "data": {
            "text/plain": [
              "'Hello Foo!'"
            ]
          },
          "metadata": {
            "tags": []
          },
          "execution_count": 19
        }
      ]
    },
    {
      "cell_type": "code",
      "metadata": {
        "id": "NslCVKXZkTFM",
        "colab_type": "code",
        "colab": {
          "base_uri": "https://localhost:8080/",
          "height": 52
        },
        "outputId": "0910a086-9a1d-4803-81c8-47c40682ea78"
      },
      "source": [
        "r_get = requests.get(\"http://172.28.0.2/foo\")\n",
        "r_get.text"
      ],
      "execution_count": 20,
      "outputs": [
        {
          "output_type": "stream",
          "text": [
            "172.28.0.2 - - [07/Apr/2020 07:37:06] \"\u001b[37mGET /foo HTTP/1.1\u001b[0m\" 200 -\n"
          ],
          "name": "stderr"
        },
        {
          "output_type": "execute_result",
          "data": {
            "text/plain": [
              "'Hello Foo!'"
            ]
          },
          "metadata": {
            "tags": []
          },
          "execution_count": 20
        }
      ]
    },
    {
      "cell_type": "markdown",
      "metadata": {
        "id": "TaASeJW1kppZ",
        "colab_type": "text"
      },
      "source": [
        "Let's do the same but with a POST request:"
      ]
    },
    {
      "cell_type": "code",
      "metadata": {
        "id": "CbiApEJXkjBv",
        "colab_type": "code",
        "colab": {
          "base_uri": "https://localhost:8080/",
          "height": 52
        },
        "outputId": "3de1522e-2fc6-4d66-e111-149dc7d7869a"
      },
      "source": [
        "r_post = requests.post(\"http://172.28.0.2/foo\")\n",
        "r_post.text"
      ],
      "execution_count": 21,
      "outputs": [
        {
          "output_type": "stream",
          "text": [
            "172.28.0.2 - - [07/Apr/2020 07:37:40] \"\u001b[37mPOST /foo HTTP/1.1\u001b[0m\" 200 -\n"
          ],
          "name": "stderr"
        },
        {
          "output_type": "execute_result",
          "data": {
            "text/plain": [
              "'Hello Foo!'"
            ]
          },
          "metadata": {
            "tags": []
          },
          "execution_count": 21
        }
      ]
    },
    {
      "cell_type": "markdown",
      "metadata": {
        "id": "AV32kmiflFS2",
        "colab_type": "text"
      },
      "source": [
        "Great! Now the POST request is working. At the moment, it is just behaving like a GET request. Let's send some data to the endpoint. But first, let's add a new endpoint that only accepts POST requests and returns the same data it receives. In the endpoint function, we need to read the data from the request using the request.get_json() method from Flask. This method will return a dictionary. HTTP requests need to return HTTP-compatible text format. The most popular one is JSON (JSON was mentioned in the first chapter). It is very similar to a Python dictionary."
      ]
    },
    {
      "cell_type": "markdown",
      "metadata": {
        "id": "eDyxAqQnlHe6",
        "colab_type": "text"
      },
      "source": [
        "The jsonify function from Flask will convert a Python dictionary to JSON:"
      ]
    },
    {
      "cell_type": "code",
      "metadata": {
        "id": "tNNr1GdwkrS8",
        "colab_type": "code",
        "colab": {}
      },
      "source": [
        "from flask import jsonify, request\n",
        "\n",
        "@app.route('/display', methods=['POST'])\n",
        "def print_item():\n",
        "  data = request.get_json()\n",
        "  return jsonify(data)"
      ],
      "execution_count": 0,
      "outputs": []
    },
    {
      "cell_type": "markdown",
      "metadata": {
        "id": "Ngdk0niNlM3V",
        "colab_type": "text"
      },
      "source": [
        "Now we have to send data with the POST request. First, let's create a list of data we will send to this endpoint:"
      ]
    },
    {
      "cell_type": "code",
      "metadata": {
        "id": "ue9AvQQ7lJyL",
        "colab_type": "code",
        "colab": {}
      },
      "source": [
        "data = ['Australia', 'France', 'China']"
      ],
      "execution_count": 0,
      "outputs": []
    },
    {
      "cell_type": "markdown",
      "metadata": {
        "id": "-JknrFSelPjL",
        "colab_type": "text"
      },
      "source": [
        "We need to convert it into JSON. We will use the .dumps() method from the json package:"
      ]
    },
    {
      "cell_type": "code",
      "metadata": {
        "id": "I9F1KWNblOO7",
        "colab_type": "code",
        "colab": {}
      },
      "source": [
        "import json\n",
        "j_data = json.dumps(data)"
      ],
      "execution_count": 0,
      "outputs": []
    },
    {
      "cell_type": "markdown",
      "metadata": {
        "id": "FL5ksg_0lWQG",
        "colab_type": "text"
      },
      "source": [
        "To send data via a POST request, we need to provide the type of information sent. We will provide a dictionary to the header parameter of the POST request: headers = {'content-type': 'application/json', 'Accept-Charset': 'UTF-8'}. This dictionary specifies the type of data. Here it will be JSON, and the text encoding is UTF-8:"
      ]
    },
    {
      "cell_type": "code",
      "metadata": {
        "id": "uZo2rvAZlRKZ",
        "colab_type": "code",
        "colab": {
          "base_uri": "https://localhost:8080/",
          "height": 34
        },
        "outputId": "702b87a9-eacb-4127-e62b-23006eebbf41"
      },
      "source": [
        "headers = {'content-type': 'application/json', 'Accept-Charset': 'UTF-8'}\n",
        "\n",
        "r = requests.post(\"http://172.28.0.2/display\", data=j_data, headers=headers)"
      ],
      "execution_count": 25,
      "outputs": [
        {
          "output_type": "stream",
          "text": [
            "172.28.0.2 - - [07/Apr/2020 07:40:46] \"\u001b[37mPOST /display HTTP/1.1\u001b[0m\" 200 -\n"
          ],
          "name": "stderr"
        }
      ]
    },
    {
      "cell_type": "markdown",
      "metadata": {
        "id": "ERy8GZpOleCE",
        "colab_type": "text"
      },
      "source": [
        "Our POST request to the display/ endpoint was successful, as shown by the logs. Now let's print the response received from the server by looking at the .text attribute:"
      ]
    },
    {
      "cell_type": "code",
      "metadata": {
        "id": "YfjTceVWlY5v",
        "colab_type": "code",
        "colab": {
          "base_uri": "https://localhost:8080/",
          "height": 34
        },
        "outputId": "e290548b-af8d-4b31-ed43-3e35231ce0e0"
      },
      "source": [
        "r.text"
      ],
      "execution_count": 26,
      "outputs": [
        {
          "output_type": "execute_result",
          "data": {
            "text/plain": [
              "'[\"Australia\",\"France\",\"China\"]\\n'"
            ]
          },
          "metadata": {
            "tags": []
          },
          "execution_count": 26
        }
      ]
    },
    {
      "cell_type": "code",
      "metadata": {
        "id": "3XfEQqOMlgbs",
        "colab_type": "code",
        "colab": {}
      },
      "source": [
        ""
      ],
      "execution_count": 0,
      "outputs": []
    }
  ]
}